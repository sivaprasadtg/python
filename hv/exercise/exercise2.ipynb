{
  "nbformat": 4,
  "nbformat_minor": 0,
  "metadata": {
    "colab": {
      "provenance": [],
      "include_colab_link": true
    },
    "kernelspec": {
      "name": "python3",
      "display_name": "Python 3"
    },
    "language_info": {
      "name": "python"
    }
  },
  "cells": [
    {
      "cell_type": "markdown",
      "metadata": {
        "id": "view-in-github",
        "colab_type": "text"
      },
      "source": [
        "<a href=\"https://colab.research.google.com/github/sivaprasadtg/Studies/blob/main/com/personal/hv%20/pfa/exercise2.ipynb\" target=\"_parent\"><img src=\"https://colab.research.google.com/assets/colab-badge.svg\" alt=\"Open In Colab\"/></a>"
      ]
    },
    {
      "cell_type": "markdown",
      "source": [
        "# Selection and Iteration"
      ],
      "metadata": {
        "id": "ZXmBmxgCyCWu"
      }
    },
    {
      "cell_type": "markdown",
      "source": [
        "Structured programming is based on three constructs: sequence, selection and iteration. Sequence is when lines of code are executed one after another, in order. We can change the program flow through selection and iteration and thereby create complex structures."
      ],
      "metadata": {
        "id": "4wYyzwpkyHV3"
      }
    },
    {
      "cell_type": "markdown",
      "source": [
        "## Selection"
      ],
      "metadata": {
        "id": "mgqLO8EKzw-M"
      }
    },
    {
      "cell_type": "markdown",
      "source": [
        "Selection is about letting the program follow different paths, depending for example on the value of a variable. We have seen the if statement, which is the most common way of performing a selection.\n",
        "\n",
        "The following example verifies if a visitor at [Liseberg](www.liseberg.com), the amusement park in Gothenburg, is tall enough to go on the ride Radiobilarna. Run the code and see if you can go!"
      ],
      "metadata": {
        "id": "CH36zvU3zzKP"
      }
    },
    {
      "cell_type": "code",
      "source": [
        "print('Welcome to Radiobilarna!')\n",
        "height = int(input('How tall are you? '))\n",
        "if height >= 130:\n",
        "  print('You can go')"
      ],
      "metadata": {
        "id": "UxciEzBTikJH",
        "colab": {
          "base_uri": "https://localhost:8080/"
        },
        "outputId": "bcda5e87-bdbf-4b00-ee39-dec0acc8aa5b"
      },
      "execution_count": 3,
      "outputs": [
        {
          "output_type": "stream",
          "name": "stdout",
          "text": [
            "Welcome to Radiobilarna!\n",
            "How tall are you? 130\n",
            "You can go\n"
          ]
        }
      ]
    },
    {
      "cell_type": "markdown",
      "source": [
        "### Conditions with Options"
      ],
      "metadata": {
        "id": "DxmR1pdpi3g4"
      }
    },
    {
      "cell_type": "markdown",
      "source": [
        "The code works if you are tall enough, but no feedback is given to a guest that does not meet the requirements of the ride.\n",
        "\n",
        "Complete the code so that the message `You cannot go` is printed if the user gives a height less than 130 cm."
      ],
      "metadata": {
        "id": "h8ffQ6dvjAAw"
      }
    },
    {
      "cell_type": "code",
      "source": [
        "print('Welcome to Radiobilarna!')\n",
        "height = int(input('How tall are you? '))\n",
        "if height >= 130:\n",
        "  print('You can go')\n",
        "else:\n",
        "  print('You cannot go')"
      ],
      "metadata": {
        "id": "IWpRcCIXjV7G",
        "colab": {
          "base_uri": "https://localhost:8080/"
        },
        "outputId": "cc9ff3a6-79ff-4971-814c-0b3deef49c4c"
      },
      "execution_count": 4,
      "outputs": [
        {
          "output_type": "stream",
          "name": "stdout",
          "text": [
            "Welcome to Radiobilarna!\n",
            "How tall are you? 100\n",
            "You cannot go\n"
          ]
        }
      ]
    },
    {
      "cell_type": "markdown",
      "source": [
        "### More than One Condition"
      ],
      "metadata": {
        "id": "JOZUdnfjjYs3"
      }
    },
    {
      "cell_type": "markdown",
      "source": [
        "The ride Lisebergbanan requires the rider to be at least 130 cm tall *or* at least 110 cm if accompanied by an adult.\n",
        "\n",
        "Complete the code so that three different messages are printed, depending on the height given."
      ],
      "metadata": {
        "id": "mEvjt_UujcDX"
      }
    },
    {
      "cell_type": "code",
      "source": [
        "print('Welcome to Lisebergbanan!')\n",
        "height = int(input('How tall are you? '))\n",
        "if height >= 130:\n",
        "  print('You can go')\n",
        "elif 110 <= height < 130:\n",
        "  print('You may go if accompanied by an adult')\n",
        "else:\n",
        "  print('You cannot go')"
      ],
      "metadata": {
        "id": "5nJU7QI8kLz-",
        "colab": {
          "base_uri": "https://localhost:8080/"
        },
        "outputId": "2536ea4a-d7fe-4ac1-f543-9462bccfa4b6"
      },
      "execution_count": 14,
      "outputs": [
        {
          "output_type": "stream",
          "name": "stdout",
          "text": [
            "Welcome to Lisebergbanan!\n",
            "How tall are you? 150\n",
            "You can go\n"
          ]
        }
      ]
    },
    {
      "cell_type": "markdown",
      "source": [
        "### Logical Expressions"
      ],
      "metadata": {
        "id": "DguGOOA_kobX"
      }
    },
    {
      "cell_type": "markdown",
      "source": [
        "For some rides being tall is not enough: There is also an age requirement. To go on the ride Loke, you have to be at least 130 cm tall *and* at least 7 years old.\n",
        "\n",
        "Complete the following code with an if statement that prints `You can go` if the guest meets *both* requirements, and `You cannot go` otherwise."
      ],
      "metadata": {
        "id": "8B4xu_zqkr_v"
      }
    },
    {
      "cell_type": "code",
      "source": [
        "print('Welcome to Loke!')\n",
        "height = int(input('How tall are you? '))\n",
        "age = int(input('How old are you? '))\n",
        "if height >= 130 and age >= 7:\n",
        "   print('You can go')\n",
        "else:\n",
        "  print('You cannot go')"
      ],
      "metadata": {
        "id": "npXv6xyvl42e",
        "colab": {
          "base_uri": "https://localhost:8080/"
        },
        "outputId": "65d59e3e-5de5-494d-9d89-07f9d5db39cd"
      },
      "execution_count": 17,
      "outputs": [
        {
          "output_type": "stream",
          "name": "stdout",
          "text": [
            "Welcome to Loke!\n",
            "How tall are you? 130\n",
            "How old are you? 5\n",
            "You cannot go\n"
          ]
        }
      ]
    },
    {
      "cell_type": "markdown",
      "source": [
        "Back to Lisebergbanan: The requirement says at least 130 cm or at least 110 cm if accompanied by an adult. We have two parameters and therefore must ask two questions in order to determine if the requirements are met.\n",
        "\n",
        "Complete the following code so that it prints `You can go` if the guest meets the requirement, and `You cannot go` otherwise. You can test whether the answer to the second question is `yes` using `accompanied == 'yes'`."
      ],
      "metadata": {
        "id": "lHZpeUpWmA_d"
      }
    },
    {
      "cell_type": "code",
      "source": [
        "print('Welcome to Lisebergbanan!')\n",
        "height = int(input('How tall are you? '))\n",
        "accompanied = input('Is your mom or dad going with you? ')\n",
        "if height >= 130 or (height >= 110 and accompanied == 'yes'):\n",
        "  print('You can go')\n",
        "else:\n",
        "  print('You cannot go')"
      ],
      "metadata": {
        "id": "w6LNSm5UoUMc",
        "colab": {
          "base_uri": "https://localhost:8080/"
        },
        "outputId": "a69c4def-e9b8-4dee-93ad-0cc37d6e0374"
      },
      "execution_count": 23,
      "outputs": [
        {
          "output_type": "stream",
          "name": "stdout",
          "text": [
            "Welcome to Lisebergbanan!\n",
            "How tall are you? 120\n",
            "Is your mom or dad going with you? no\n",
            "You cannot go\n"
          ]
        }
      ]
    },
    {
      "cell_type": "markdown",
      "source": [
        "### Nested If Statements"
      ],
      "metadata": {
        "id": "WHR9hgJlo5zk"
      }
    },
    {
      "cell_type": "markdown",
      "source": [
        "The strategy above solves the problem, but after having asked too many grown-ups if they are going with their parents, we realize that we could probably solve the problem in a better way.\n",
        "\n",
        "Rewrite the code above with nested if statements, so that only riders between 110 and 130 cm get the question about their parents."
      ],
      "metadata": {
        "id": "DrZACuldo95-"
      }
    },
    {
      "cell_type": "code",
      "source": [
        "print('Welcome to Lisebergbanan!')\n",
        "height = int(input('How tall are you? '))\n",
        "if height >= 130 :\n",
        "  print('You can go')\n",
        "elif height >= 110 :\n",
        "  accompanied = input('Is your mom or dad going with you? ')\n",
        "  if accompanied == 'yes':\n",
        "    print('You can go')\n",
        "  else:\n",
        "    print('You cannot go')\n",
        "else:\n",
        "    print('You cannot go')"
      ],
      "metadata": {
        "id": "SKuCDq-xqVY1",
        "colab": {
          "base_uri": "https://localhost:8080/"
        },
        "outputId": "7296f87b-047c-4513-835b-a44d29b13c3b"
      },
      "execution_count": 29,
      "outputs": [
        {
          "output_type": "stream",
          "name": "stdout",
          "text": [
            "Welcome to Lisebergbanan!\n",
            "How tall are you? 100\n",
            "You cannot go\n"
          ]
        }
      ]
    },
    {
      "cell_type": "markdown",
      "source": [
        "## Iteration"
      ],
      "metadata": {
        "id": "4ngsdoGvqZae"
      }
    },
    {
      "cell_type": "markdown",
      "source": [
        "In Python, there are two ways to repeat blocks of code: the `while` statement and the `for` statement."
      ],
      "metadata": {
        "id": "aFmJOYjjqbYs"
      }
    },
    {
      "cell_type": "markdown",
      "source": [
        "### The While Statement"
      ],
      "metadata": {
        "id": "wbXmvUjoqlAs"
      }
    },
    {
      "cell_type": "markdown",
      "source": [
        "The `while` statement is used to repeat a block of code as long as a given condition is satisified.\n",
        "\n",
        "Can you see the problem with the following code? Run it to see what happens. Fix the problem, so that the code performs a countdown from 10 to 0."
      ],
      "metadata": {
        "id": "yD1cWYU2qnnj"
      }
    },
    {
      "cell_type": "code",
      "source": [
        "t = 10\n",
        "while t >= 0:\n",
        "  print(t)\n",
        "  t -= 1\n",
        "print('Happy New Year!')"
      ],
      "metadata": {
        "id": "oCLxl0dPvScA",
        "colab": {
          "base_uri": "https://localhost:8080/"
        },
        "outputId": "dcefe9b8-5150-4efc-9ac1-a33251fbe332"
      },
      "execution_count": 32,
      "outputs": [
        {
          "output_type": "stream",
          "name": "stdout",
          "text": [
            "10\n",
            "9\n",
            "8\n",
            "7\n",
            "6\n",
            "5\n",
            "4\n",
            "3\n",
            "2\n",
            "1\n",
            "0\n",
            "Happy New Year!\n"
          ]
        }
      ]
    },
    {
      "cell_type": "markdown",
      "source": [
        "In the example above we want to do something a certain number of times, so we use a counter in the condition. Another method is to use the condition to formulate something that we want to reach.\n",
        "\n",
        "In a mathematical model ([a logistic population model](https://en.wikipedia.org/wiki/Logistic_function#In_ecology:_modeling_population_growth)) we assume that the number of rabbits $R$ in a population increases every month according to the formula $$\\Delta R = 0.1R\\left(1 - \\frac{R}{25\\,000}\\right), \\quad R(0) = 2\\,000$$ We would like to know how many months it would take for the number of rabbits to reach $20\\,000$ so we write the following while statement.\n",
        "\n",
        "Complete the code so that it computes and prints out the numbers of months it takes."
      ],
      "metadata": {
        "id": "I4Mt3ou_vWl7"
      }
    },
    {
      "cell_type": "code",
      "source": [
        "R = 2000\n",
        "month = 0\n",
        "while R < 20000:\n",
        "  R += 0.1 * R * (1 - R / 25000)\n",
        "  print(f'{R}')\n",
        "  month += 1\n",
        "print(f'{month} months it will take')"
      ],
      "metadata": {
        "id": "F2nybLa8ypU5",
        "colab": {
          "base_uri": "https://localhost:8080/"
        },
        "outputId": "33fbafb8-c877-491f-d87a-fd9c40a77bf1"
      },
      "execution_count": 35,
      "outputs": [
        {
          "output_type": "stream",
          "name": "stdout",
          "text": [
            "2184.0\n",
            "2383.320576\n",
            "2598.9317657280603\n",
            "2831.8071570092247\n",
            "3082.9113456121927\n",
            "3353.1851107137945\n",
            "3643.5282202383232\n",
            "3954.779850695463\n",
            "4287.696701095142\n",
            "4642.928999202328\n",
            "5020.9947403560245\n",
            "5422.252661660896\n",
            "5846.87463211943\n",
            "6294.8183234764865\n",
            "6765.801204921834\n",
            "7259.27706163593\n",
            "7774.416353969149\n",
            "8310.091790786611\n",
            "8864.870467580076\n",
            "9437.01380071019\n",
            "10024.486262882032\n",
            "10624.973589831392\n",
            "11235.910693676073\n",
            "11854.519006578623\n",
            "12477.85242372715\n",
            "13102.85046166661\n",
            "13726.396746950084\n",
            "14345.380551026365\n",
            "14956.758833513939\n",
            "15557.616177649745\n",
            "16145.220110890443\n",
            "16717.069592263084\n",
            "17270.934888479125\n",
            "17804.887609638696\n",
            "18317.320279435102\n",
            "18806.955418500995\n",
            "19272.844671897157\n",
            "19714.358972098573\n",
            "20131.171070585377\n",
            "39 months it will take\n"
          ]
        }
      ]
    },
    {
      "cell_type": "markdown",
      "source": [
        "Sometimes, we choose not to use a condition but to repeat the code block until it is interrupted using a `break` statement.\n",
        "\n",
        "Complete the following code so that the while statement is interrupted when the user enters an even number. Remember that we recognize even numbers on that the remainder after integer division by 2 is 0."
      ],
      "metadata": {
        "id": "v27wA3WXysGb"
      }
    },
    {
      "cell_type": "code",
      "source": [
        "print('Enter an even number: ')\n",
        "while True:\n",
        "  number = int(input())\n",
        "  if number % 2 == 0:\n",
        "    break\n",
        "print('The number is', number)"
      ],
      "metadata": {
        "id": "8mK0NJSu0DwZ",
        "colab": {
          "base_uri": "https://localhost:8080/"
        },
        "outputId": "ca6607c2-a80d-47ef-eb97-832fff70c6a8"
      },
      "execution_count": 36,
      "outputs": [
        {
          "output_type": "stream",
          "name": "stdout",
          "text": [
            "Enter an even number: \n",
            "11\n",
            "1\n",
            "9\n",
            "17\n",
            "39\n",
            "43\n",
            "51\n",
            "10\n",
            "The number is 10\n"
          ]
        }
      ]
    },
    {
      "cell_type": "markdown",
      "source": [
        "## The For Statement"
      ],
      "metadata": {
        "id": "DIiKyx072a05"
      }
    },
    {
      "cell_type": "markdown",
      "source": [
        "When we want to repeat a code block a given number of times using a counter, there is another option than the `while` statement: the `for` statement.\n",
        "\n",
        "The following code prints the integers from 0 to 9. Note that the counter starts at 0 unless otherwise stated and that the last value is not included."
      ],
      "metadata": {
        "id": "x46_guV02a9n"
      }
    },
    {
      "cell_type": "code",
      "source": [
        "for i in range(10):\n",
        "  print(i)"
      ],
      "metadata": {
        "id": "ukmWK-bDm0Uy",
        "colab": {
          "base_uri": "https://localhost:8080/"
        },
        "outputId": "d70fb1af-63aa-494e-ed65-1aa7fe12cfc1"
      },
      "execution_count": 37,
      "outputs": [
        {
          "output_type": "stream",
          "name": "stdout",
          "text": [
            "0\n",
            "1\n",
            "2\n",
            "3\n",
            "4\n",
            "5\n",
            "6\n",
            "7\n",
            "8\n",
            "9\n"
          ]
        }
      ]
    },
    {
      "cell_type": "markdown",
      "source": [
        "Change the code so that the counter starts at 1 and prints the values until *and including* 10."
      ],
      "metadata": {
        "id": "UNfvEI2zm2ao"
      }
    },
    {
      "cell_type": "code",
      "source": [
        "for i in range(1,10+1):\n",
        "  print(i)"
      ],
      "metadata": {
        "id": "arcR-5dlnQBx",
        "colab": {
          "base_uri": "https://localhost:8080/"
        },
        "outputId": "8ad7b94e-0347-412e-b4f0-e2befc7a0734"
      },
      "execution_count": 38,
      "outputs": [
        {
          "output_type": "stream",
          "name": "stdout",
          "text": [
            "1\n",
            "2\n",
            "3\n",
            "4\n",
            "5\n",
            "6\n",
            "7\n",
            "8\n",
            "9\n",
            "10\n"
          ]
        }
      ]
    },
    {
      "cell_type": "markdown",
      "source": [
        "Play around with different values for `start`, `stop` and `step`. If `step` is negative, `start` must be greater than `stop`."
      ],
      "metadata": {
        "id": "ImoZqcW5nSxJ"
      }
    },
    {
      "cell_type": "code",
      "source": [
        "start, stop, step = 10, 1, -1      # multiple assignments\n",
        "for i in range(start, stop, step):\n",
        "  print(i, end=' ')               # print with spaces between numbers, no newlines\n",
        "print()                           # good idea to end with a newline\n",
        "print('i now has the value', i)"
      ],
      "metadata": {
        "id": "JvQ9mNfdnmNS",
        "colab": {
          "base_uri": "https://localhost:8080/"
        },
        "outputId": "46503510-5e53-4980-d025-2802c2c4ba95"
      },
      "execution_count": 40,
      "outputs": [
        {
          "output_type": "stream",
          "name": "stdout",
          "text": [
            "10 9 8 7 6 5 4 3 2 \n",
            "i now has the value 2\n"
          ]
        }
      ]
    },
    {
      "cell_type": "markdown",
      "source": [
        "### Nested For Statements"
      ],
      "metadata": {
        "id": "qpXKUXDIoCxp"
      }
    },
    {
      "cell_type": "markdown",
      "source": [
        "Just like if statements, for statements can be nested.\n",
        "\n",
        "Play around with the following code to understand how the nested for statements work."
      ],
      "metadata": {
        "id": "UqsacoTmoHFa"
      }
    },
    {
      "cell_type": "code",
      "source": [
        "n, m = 3, 4                 # number of rows and number of columns\n",
        "for i in range(1, n + 1):   # create n rows, i is the row number\n",
        "  for j in range(1, m + 1): # create m columns, j is the column number\n",
        "    print('*', end=' ')     # print a start, end with space\n",
        "  print()                   # end the current row"
      ],
      "metadata": {
        "id": "kugjFj6loT10",
        "colab": {
          "base_uri": "https://localhost:8080/"
        },
        "outputId": "6de5e23d-17bf-40de-f3b5-cbcc184d4c8d"
      },
      "execution_count": 41,
      "outputs": [
        {
          "output_type": "stream",
          "name": "stdout",
          "text": [
            "* * * * \n",
            "* * * * \n",
            "* * * * \n"
          ]
        }
      ]
    },
    {
      "cell_type": "markdown",
      "source": [
        "Use the previous example to print the following pattern:\n",
        "\n",
        "```\n",
        "1\n",
        "1 2\n",
        "1 2 3\n",
        "1 2 3 4\n",
        "```"
      ],
      "metadata": {
        "id": "2WLuj2QkoVzC"
      }
    },
    {
      "cell_type": "code",
      "source": [
        "n = 4                 # do we need both these variables?\n",
        "for i in range(1, n +1):   # how many rows?\n",
        "  for j in range(1, i + 1): # how many columns? depends on the row!\n",
        "    print(f'{j}', end=' ')     # what should be printed?\n",
        "  print()                   # end the current row"
      ],
      "metadata": {
        "id": "xUILJN4uoadw",
        "colab": {
          "base_uri": "https://localhost:8080/"
        },
        "outputId": "1769ce4b-a5ae-4e27-8d46-3614376264c4"
      },
      "execution_count": 65,
      "outputs": [
        {
          "output_type": "stream",
          "name": "stdout",
          "text": [
            "1 \n",
            "1 2 \n",
            "1 2 3 \n",
            "1 2 3 4 \n"
          ]
        }
      ]
    },
    {
      "cell_type": "markdown",
      "source": [
        "Now print the following pattern:\n",
        "```\n",
        "4 4 4 4\n",
        "3 3 3\n",
        "2 2\n",
        "1\n",
        "```"
      ],
      "metadata": {
        "id": "Rsw2JJ06ocuw"
      }
    },
    {
      "cell_type": "code",
      "source": [
        "n = 4             # do we need both these variables?\n",
        "for i in range(n, 0, -1):   # how many rows?\n",
        "  for j in range(0, i, 1): # how many columns? depends on the row!\n",
        "    print(f'{i}', end=' ')     # what should be printed?\n",
        "  print()                   # end the current row"
      ],
      "metadata": {
        "id": "09NSK07kofAJ",
        "colab": {
          "base_uri": "https://localhost:8080/"
        },
        "outputId": "2abb7ef5-57f4-4577-dd51-4b28a6e751ef"
      },
      "execution_count": 66,
      "outputs": [
        {
          "output_type": "stream",
          "name": "stdout",
          "text": [
            "4 4 4 4 \n",
            "3 3 3 \n",
            "2 2 \n",
            "1 \n"
          ]
        }
      ]
    },
    {
      "cell_type": "markdown",
      "source": [
        "## Exercises\n",
        "Solve the following exercises on your own:\n",
        "\n",
        "*   Complete the following code so that one of the following texts is printed, depending on the heights given by the user:\n",
        "   * `You are 13 cm taller than your partner.`\n",
        "   * `Your partner is 13 cm taller than you.`\n",
        "   * `You and your partner are the same height.`\n",
        "\n",
        "   The height differences above are just examples and should be replaced with the difference between the given heights."
      ],
      "metadata": {
        "id": "yDp77LyUY8Zl"
      }
    },
    {
      "cell_type": "code",
      "source": [
        "your_height = int(input('Your height (in cm): '))\n",
        "partners_height = int(input('Your partner\\'s height (in cm): '))\n",
        "if your_height > partners_height:\n",
        "  print(f'You are {your_height-partners_height} cm taller than your partner.')\n",
        "elif your_height < partners_height:\n",
        "  print(f'Your partner is {partners_height-your_height} cm taller than you.')\n",
        "else:\n",
        "  print('You and your partner are the same height.')"
      ],
      "metadata": {
        "id": "A0kv53sIaFrv",
        "colab": {
          "base_uri": "https://localhost:8080/"
        },
        "outputId": "619cfd82-46b4-4801-aef5-c1140b4017f4"
      },
      "execution_count": 70,
      "outputs": [
        {
          "output_type": "stream",
          "name": "stdout",
          "text": [
            "Your height (in cm): 150\n",
            "Your partner's height (in cm): 150\n",
            "You and your partner are the same height.\n"
          ]
        }
      ]
    },
    {
      "cell_type": "markdown",
      "source": [
        "*   Consider a quadratic equation given on the form $$x^2 + px + q = 0$$\n",
        "   *   If $\\left(\\frac{p}{2}\\right)^2 - q < 0$ the equation has no real solutions,\n",
        "   *   If $\\left(\\frac{p}{2}\\right)^2 - q = 0$ the equation has a double solution given by $x_{1,2} = -\\frac{p}{2}$\n",
        "   *   In all other cases, the solutions are given by the formula $x_{1, 2} = -\\frac{p}{2} \\pm \\sqrt{\\left(\\frac{p}{2}\\right)^2 - q}$\n",
        "   \n",
        "   Write a program that reads the coefficients $p$ and $q$. The program should compute the number of real solutions and print those."
      ],
      "metadata": {
        "id": "gydcVon3aHtz"
      }
    },
    {
      "cell_type": "code",
      "source": [
        "import math\n",
        "print('x^2 + px + q = 0')\n",
        "p = int(input('p: '))\n",
        "q = int(input('q: '))\n",
        "if ((p/2)*(p/2) - q) < 0:\n",
        "  print(f'The equation has no real solution.')\n",
        "elif ((p/2)*(p/2) - q) == 0:\n",
        "  print(f'the equation has a double solution: {(-p)/2}')\n",
        "else:\n",
        "  print(f'the solutions are given by the formula  x= {-(p/2) + math.sqrt((p/2)*(p/2) - q)} and {-(p/2) - math.sqrt((p/2)*(p/2) - q)}')"
      ],
      "metadata": {
        "id": "s-VtiXBhbFSD",
        "colab": {
          "base_uri": "https://localhost:8080/"
        },
        "outputId": "3fea1017-d646-48bb-ba4f-97a6d962c133"
      },
      "execution_count": 80,
      "outputs": [
        {
          "output_type": "stream",
          "name": "stdout",
          "text": [
            "x^2 + px + q = 0\n",
            "p: 4\n",
            "q: 1\n",
            "the solutions are given by the formula  x= -0.2679491924311228 and -3.732050807568877\n"
          ]
        }
      ]
    },
    {
      "cell_type": "markdown",
      "source": [
        "FizzBuzz is a game that is used with kids to practice division. You sit in a circle and count, in order. Any number that is divisible by 3 is replaced by *Fizz* and any number that is divisible by 5 is replaced by *Buzz*. Any number that is divisible by 3 and 5 is replaced by *FizzBuzz*.\n",
        "\n",
        "Starting at 1, the start is as follows:\n",
        "\n",
        "`1, 2, Fizz, 4, Buzz, Fizz, 7, 8, Fizz, Buzz, 11, Fizz, 13, 14, FizzBuzz, 16, ...`\n",
        "\n",
        "*   Read a number from the user and let the program count from 1 until it reaches the given number, according to the rules above. The numbers or the replacement words should be printed to the screen, one on each row."
      ],
      "metadata": {
        "id": "rgfiV06FbG89"
      }
    },
    {
      "cell_type": "code",
      "source": [
        "num = int(input('How far do you want to count? '))\n",
        "for i in range(1, num+1):\n",
        "  if i % 3  == 0 and i % 5  == 0:\n",
        "    print('FizzBuzz', end=', ')\n",
        "  elif i % 3 == 0:\n",
        "    print('Fizz', end=', ')\n",
        "  elif i % 5 == 0:\n",
        "    print('Buzz', end=', ')\n",
        "  else:\n",
        "    print(i, end=', ')"
      ],
      "metadata": {
        "id": "xZVi0gfJbJra",
        "colab": {
          "base_uri": "https://localhost:8080/"
        },
        "outputId": "c5c3b463-1321-42a8-d2bc-355aa62ebe1e"
      },
      "execution_count": 89,
      "outputs": [
        {
          "output_type": "stream",
          "name": "stdout",
          "text": [
            "How far do you want to count? 16\n",
            "1, 2, Fizz, 4, Buzz, Fizz, 7, 8, Fizz, Buzz, 11, Fizz, 13, 14, FizzBuzz, 16, "
          ]
        }
      ]
    }
  ]
}
