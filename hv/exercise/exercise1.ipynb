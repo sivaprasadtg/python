{
  "nbformat": 4,
  "nbformat_minor": 0,
  "metadata": {
    "colab": {
      "provenance": [],
      "include_colab_link": true
    },
    "kernelspec": {
      "name": "python3",
      "display_name": "Python 3"
    },
    "language_info": {
      "name": "python"
    }
  },
  "cells": [
    {
      "cell_type": "markdown",
      "metadata": {
        "id": "view-in-github",
        "colab_type": "text"
      },
      "source": [
        "<a href=\"https://colab.research.google.com/github/sivaprasadtg/Studies/blob/main/exercise1.ipynb\" target=\"_parent\"><img src=\"https://colab.research.google.com/assets/colab-badge.svg\" alt=\"Open In Colab\"/></a>"
      ]
    },
    {
      "cell_type": "markdown",
      "source": [
        "# Introduction"
      ],
      "metadata": {
        "id": "TLDVrCICJT-d"
      }
    },
    {
      "cell_type": "markdown",
      "source": [
        "We have seen how to input and output data to the screen, text as well as numerical values, with or without formatting.\n",
        "\n",
        "We have also seen how to perform computations in Python. We have seen the most common operators and a couple of built-in functions. Additional functions are available in the modules `math` and `random`."
      ],
      "metadata": {
        "id": "5jXBqYzSJSOM"
      }
    },
    {
      "cell_type": "markdown",
      "source": [
        "## Read and Write Text"
      ],
      "metadata": {
        "id": "Kbf3mNBGKO6e"
      }
    },
    {
      "cell_type": "markdown",
      "source": [
        "Run the following code and make sure that you understand what it does."
      ],
      "metadata": {
        "id": "sbsEYbm5KRft"
      }
    },
    {
      "cell_type": "code",
      "source": [
        "name = input('What is your name? ')\n",
        "print('Hi', name)"
      ],
      "metadata": {
        "id": "xmKN6kayKWRd",
        "colab": {
          "base_uri": "https://localhost:8080/"
        },
        "outputId": "e2b19cb2-bb62-402c-89ae-b9125fcbb343"
      },
      "execution_count": 2,
      "outputs": [
        {
          "output_type": "stream",
          "name": "stdout",
          "text": [
            "What is your name? Dale\n",
            "Hi Dale\n"
          ]
        }
      ]
    },
    {
      "cell_type": "markdown",
      "source": [
        "Now add a line where you create a variable with the name `town` and reads a value (the name of a town) from the user. You can for example use the prompt `Where do you live?`. Use the new variable in the output, for example to say `'Hi Hanna from Trollhättan'` (if the user answered `Hanna` and `Trollhättan`)."
      ],
      "metadata": {
        "id": "aEj5X6LLKdae"
      }
    },
    {
      "cell_type": "code",
      "source": [
        "name = input('What is your name? ')\n",
        "print('Hi', name)"
      ],
      "metadata": {
        "id": "02H6taEKLFEV",
        "outputId": "bfa4c1af-150f-4afd-f5b1-c8f31ae27445",
        "colab": {
          "base_uri": "https://localhost:8080/"
        }
      },
      "execution_count": 1,
      "outputs": [
        {
          "output_type": "stream",
          "name": "stdout",
          "text": [
            "What is your name? simon\n",
            "Hi simon\n"
          ]
        }
      ]
    },
    {
      "cell_type": "markdown",
      "source": [
        "## Read and Write Numerical Values"
      ],
      "metadata": {
        "id": "QajkmPDwLGBA"
      }
    },
    {
      "cell_type": "markdown",
      "source": [
        "Just like with text, we can read and write numerical values. We will make a first attempt with the following code."
      ],
      "metadata": {
        "id": "Wk9qnH16LKTs"
      }
    },
    {
      "cell_type": "code",
      "source": [
        "number = input('Give a number: ')\n",
        "print('You gave the number', number)"
      ],
      "metadata": {
        "id": "kp86QeuWLUV2",
        "outputId": "c06ad1d9-9949-4acd-f710-6b5c92e6aa6a",
        "colab": {
          "base_uri": "https://localhost:8080/"
        }
      },
      "execution_count": 3,
      "outputs": [
        {
          "output_type": "stream",
          "name": "stdout",
          "text": [
            "Give a number: 34\n",
            "You gave the number 34\n"
          ]
        }
      ]
    },
    {
      "cell_type": "markdown",
      "source": [
        "It seems to be working, but when we try to use the number we see that it does not."
      ],
      "metadata": {
        "id": "9iAZkdwALb4O"
      }
    },
    {
      "cell_type": "code",
      "source": [
        "number = input('Give a number: ')\n",
        "double_that = 2 * number\n",
        "print('You say', number, 'but I say', double_that)"
      ],
      "metadata": {
        "id": "SLYuumdfLm_v",
        "outputId": "e8c5211d-2200-4f37-d790-0cd6d73c732d",
        "colab": {
          "base_uri": "https://localhost:8080/"
        }
      },
      "execution_count": 4,
      "outputs": [
        {
          "output_type": "stream",
          "name": "stdout",
          "text": [
            "Give a number: 23\n",
            "You say 23 but I say 2323\n"
          ]
        }
      ]
    },
    {
      "cell_type": "markdown",
      "source": [
        "Fix the problem by telling Python that the number provided by the user should be interpreted as an integer."
      ],
      "metadata": {
        "id": "ejDW-XecLyD1"
      }
    },
    {
      "cell_type": "code",
      "source": [
        "number = int(input('Give a number: '))\n",
        "double_that = 2 * number\n",
        "print('You say', number, 'but I say', double_that)"
      ],
      "metadata": {
        "id": "1q4sXE6gL_f_",
        "outputId": "3ecf48a3-c382-4ca4-c0ab-582f366fff9c",
        "colab": {
          "base_uri": "https://localhost:8080/"
        }
      },
      "execution_count": 5,
      "outputs": [
        {
          "output_type": "stream",
          "name": "stdout",
          "text": [
            "Give a number: 23\n",
            "You say 23 but I say 46\n"
          ]
        }
      ]
    },
    {
      "cell_type": "markdown",
      "source": [
        "### Real Numbers"
      ],
      "metadata": {
        "id": "BLazkfGCMBf8"
      }
    },
    {
      "cell_type": "markdown",
      "source": [
        "Sometimes, we may want to input a number that is not an integer but a decimal number. Make the required changes to the following code, so that it works. The user should be able to input a diameter that is interpreted as a real number, a `float`."
      ],
      "metadata": {
        "id": "6NN2Zf3AMEe2"
      }
    },
    {
      "cell_type": "code",
      "source": [
        "pi = 3.14159\n",
        "diameter = float(input('Diameter of the circle: '))\n",
        "circumference = pi * diameter\n",
        "print('The circumference of the circle is', circumference)"
      ],
      "metadata": {
        "id": "9Pit1KOiMgy6",
        "outputId": "ff63317c-2bfd-4a58-e33d-5cf531812eb0",
        "colab": {
          "base_uri": "https://localhost:8080/"
        }
      },
      "execution_count": 6,
      "outputs": [
        {
          "output_type": "stream",
          "name": "stdout",
          "text": [
            "Diameter of the circle: 34\n",
            "The circumference of the circle is 106.81406\n"
          ]
        }
      ]
    },
    {
      "cell_type": "markdown",
      "source": [
        "If you made the code above work, you might have noticed a new problem: The printed message does not look very good. This brings us to our next topic."
      ],
      "metadata": {
        "id": "-vA2tUb0MuED"
      }
    },
    {
      "cell_type": "markdown",
      "source": [
        "### Formatting Numerical Values"
      ],
      "metadata": {
        "id": "GQVHogRFM6fi"
      }
    },
    {
      "cell_type": "markdown",
      "source": [
        "We can format the output using f-strings. The following code prints the result of a computation using two decimal places."
      ],
      "metadata": {
        "id": "83W-oj6ZM9e0"
      }
    },
    {
      "cell_type": "code",
      "source": [
        "value = 6\n",
        "inverse = 1 / value\n",
        "print(f'The inverse of {value} is {inverse:.2f}')"
      ],
      "metadata": {
        "id": "UZ-zjqogNc2K",
        "outputId": "33250302-8c6e-46c6-94f0-6bf2e3de5ab9",
        "colab": {
          "base_uri": "https://localhost:8080/"
        }
      },
      "execution_count": 7,
      "outputs": [
        {
          "output_type": "stream",
          "name": "stdout",
          "text": [
            "The inverse of 6 is 0.17\n"
          ]
        }
      ]
    },
    {
      "cell_type": "markdown",
      "source": [
        "Note that we do not need to specify what type of value we mean when we use a literal, a constant value in the code, or when the value is the result of a computation. However, when we read a value from the user Python will interpret it as a string, `str`. If we want it interpreted in any other way, as an `int` or a `float`, we need to specify it.\n",
        "\n",
        "Now rewrite the code from the previous example so that it works with real valued diameters. When the user gives a diameter of `2.5`, the message printed should be `A circle with the diameter 2.5 has a circumference of 7.85`."
      ],
      "metadata": {
        "id": "JN1UYm_KNl4L"
      }
    },
    {
      "cell_type": "code",
      "source": [
        "pi = 3.14159\n",
        "diameter = float(input('Diameter of the circle: '))\n",
        "circumference = pi * diameter\n",
        "print(f'A circle with the diameter {diameter} has a circumference of {circumference}')"
      ],
      "metadata": {
        "id": "pvf1Jo_aPDOa",
        "outputId": "fd1f997f-bf77-4edf-a8b9-4080af19e311",
        "colab": {
          "base_uri": "https://localhost:8080/"
        }
      },
      "execution_count": 8,
      "outputs": [
        {
          "output_type": "stream",
          "name": "stdout",
          "text": [
            "Diameter of the circle: 34\n",
            "A circle with the diameter 34.0 has a circumference of 106.81406\n"
          ]
        }
      ]
    },
    {
      "cell_type": "markdown",
      "source": [
        "## Arithmetical Expressions and Computations"
      ],
      "metadata": {
        "id": "ionb-txyPFqy"
      }
    },
    {
      "cell_type": "markdown",
      "source": [
        "An expression that results in a numerical value is called an arithmetical expression. Arithmetical operators are for example `+`, `-`, `*` and `/`.\n",
        "\n",
        "Complete the following code so that the proportion of women in the group is printed, expressed as a percentage."
      ],
      "metadata": {
        "id": "CiuJH6TvPRY4"
      }
    },
    {
      "cell_type": "code",
      "source": [
        "nb_women = int(input('Number of women: '))\n",
        "nb_men = int(input('Number of men: '))\n",
        "proportion_women = nb_women / (nb_women + nb_men)\n",
        "percent_women = proportion_women * 100\n",
        "print(f'In the group there are {percent_women:.2f} % women.')"
      ],
      "metadata": {
        "id": "uAgNcTQrGLnk",
        "outputId": "aa67d3c1-6af7-4b55-ac88-73ea59733e58",
        "colab": {
          "base_uri": "https://localhost:8080/"
        }
      },
      "execution_count": 9,
      "outputs": [
        {
          "output_type": "stream",
          "name": "stdout",
          "text": [
            "Number of women: 4\n",
            "Number of men: 6\n",
            "In the group there are 40.00 % women.\n"
          ]
        }
      ]
    },
    {
      "cell_type": "markdown",
      "source": [
        "In addition to these operators, we often use integer division and modulo. Use the appropriate operators to complete the following code.\n",
        "\n",
        "For this exercise, we consider cookies to be indivisable. Any attempt to share a cookie will result in an avalanche of cookie crumbs."
      ],
      "metadata": {
        "id": "mStxn_5oGxlQ"
      }
    },
    {
      "cell_type": "code",
      "source": [
        "nb_cookies = int(input('Number of cookies: '))\n",
        "nb_kids = int(input('Number of kids: '))\n",
        "cookies_per_kid = nb_cookies // nb_kids\n",
        "cookies_left = nb_cookies % nb_kids\n",
        "print(f'There are {cookies_per_kid} cookies per kid and {cookies_left} cookies left.')"
      ],
      "metadata": {
        "id": "28VVBy6pHnhq",
        "colab": {
          "base_uri": "https://localhost:8080/"
        },
        "outputId": "567eae23-38bd-4bce-9a65-b0a188cf3274"
      },
      "execution_count": 10,
      "outputs": [
        {
          "output_type": "stream",
          "name": "stdout",
          "text": [
            "Number of cookies: 100\n",
            "Number of kids: 30\n",
            "There are 3 cookies per kid and 10 cookies left.\n"
          ]
        }
      ]
    },
    {
      "cell_type": "markdown",
      "source": [
        "### Built-In Functions"
      ],
      "metadata": {
        "id": "nXwIqyczH6Sk"
      }
    },
    {
      "cell_type": "markdown",
      "source": [
        "Python has the built-in functions `min()`, `max()` and `abs()`. These are useful when you do not know in advance which value is largest.\n",
        "\n",
        "Complete the following code so that the difference in height is printed."
      ],
      "metadata": {
        "id": "ZROZ5d3PH86y"
      }
    },
    {
      "cell_type": "code",
      "source": [
        "h1 = int(input('Your height in cm: '))\n",
        "h2 = int(input('Your partner\\'s height in cm: '))\n",
        "delta_h = h1 - h2\n",
        "print(f'The height difference is {delta_h} cm.')"
      ],
      "metadata": {
        "id": "NT-sVeFtITR9",
        "outputId": "fa55d5c1-cc4c-48a5-8a1a-6cf4b3b58bdc",
        "colab": {
          "base_uri": "https://localhost:8080/"
        }
      },
      "execution_count": 11,
      "outputs": [
        {
          "output_type": "stream",
          "name": "stdout",
          "text": [
            "Your height in cm: 180\n",
            "Your partner's height in cm: 189\n",
            "The height difference is -9 cm.\n"
          ]
        }
      ]
    },
    {
      "cell_type": "markdown",
      "source": [
        "Another built-in function that is often used is `round()`. As the name indicates, it rounds a value to a given number of decimal places."
      ],
      "metadata": {
        "id": "pGGn6Q3qIlVV"
      }
    },
    {
      "cell_type": "markdown",
      "source": [
        "### The `math` Module"
      ],
      "metadata": {
        "id": "IqCnQR4xI1qb"
      }
    },
    {
      "cell_type": "markdown",
      "source": [
        "Additional functions, such as the square root `sqrt()` are defined in a module called `math`. To access the function, we first need to import the module and then specify that the function is located in the module.\n",
        "\n",
        "We use the Pythagorean theorem $$a^2 + b^2 = c^2 \\quad \\Longleftrightarrow \\quad c = \\sqrt{a^2 + b^2}$$ to compute the length of the hypotenuse in a right triangle.\n",
        "\n",
        "Complete the following code so that the result is printed with one decimal place. *Start by making the module available in the code.*"
      ],
      "metadata": {
        "id": "-USr2VudI5r9"
      }
    },
    {
      "cell_type": "code",
      "source": [
        "import math\n",
        "a = float(input('First side, a: '))\n",
        "b = float(input('Second side, b: '))\n",
        "c = math.sqrt(a*a + b*b)\n",
        "print(f'The hypotenuse is {c:.1f}.')"
      ],
      "metadata": {
        "id": "iCDsKMCLJ7bB",
        "outputId": "1bc867fa-15e2-4e60-ea99-8e704c7e309f",
        "colab": {
          "base_uri": "https://localhost:8080/"
        }
      },
      "execution_count": 12,
      "outputs": [
        {
          "output_type": "stream",
          "name": "stdout",
          "text": [
            "First side, a: 3\n",
            "Second side, b: 4\n",
            "The hypotenuse is 5.0.\n"
          ]
        }
      ]
    },
    {
      "cell_type": "markdown",
      "source": [
        "### The `random` Module"
      ],
      "metadata": {
        "id": "5_G72FbEKVjp"
      }
    },
    {
      "cell_type": "markdown",
      "source": [
        "The module `random` defines functions that can be used to generate random numbers.\n",
        "\n",
        "Use the function `randint()` from the module random to complete the following code so that it simulates a dice with a variable number of faces. *Start by making the module available in the code.*"
      ],
      "metadata": {
        "id": "LCwWCEonKa6K"
      }
    },
    {
      "cell_type": "code",
      "source": [
        "import random\n",
        "n = int(input('Number of faces on the dice: '))\n",
        "outcome = random.randint(1,n)\n",
        "print(f'The die with {n} sides is cast. You got a {outcome}.')"
      ],
      "metadata": {
        "id": "5MeOoGGFLIht",
        "outputId": "2764fe0f-cba1-4bf0-ae76-f846de91ca89",
        "colab": {
          "base_uri": "https://localhost:8080/"
        }
      },
      "execution_count": 13,
      "outputs": [
        {
          "output_type": "stream",
          "name": "stdout",
          "text": [
            "Number of faces on the dice: 6\n",
            "The die with 6 sides is cast. You got a 3.\n"
          ]
        }
      ]
    },
    {
      "cell_type": "markdown",
      "source": [
        "##Exercises\n",
        "Solve the following exercises on your own:\n",
        "*   The price of a product has been reduced. The label gives the reduced price and the reduction in percentage points, but the original price is missing. Write a program that reads the reduced price and the reduction in percentage points. The program should compute and print the original price. Round the price to two decimal points."
      ],
      "metadata": {
        "id": "l8zzw53VJUnl"
      }
    },
    {
      "cell_type": "code",
      "source": [
        "import math\n",
        "reduced_price = float(input('Please enter the reduced price: '))\n",
        "reduction_percent = float(input('Please enter the reduction in percentage: '))\n",
        "print(f'With {reduced_price} as the reduced price with {reduction_percent} as reduction percentage, the original price is {(reduced_price * 100) / (100 - reduction_percent):.2f}')"
      ],
      "metadata": {
        "id": "pI5sdbLTJfol",
        "outputId": "1941a968-b6ec-4389-efb5-cd4202fe8283",
        "colab": {
          "base_uri": "https://localhost:8080/"
        }
      },
      "execution_count": 15,
      "outputs": [
        {
          "output_type": "stream",
          "name": "stdout",
          "text": [
            "Please enter the reduced price: 150\n",
            "Please enter the reduction in percentage: 15\n",
            "With 150.0 as the reduced price with 15.0 as reduction percentage, the original price is 176.47\n"
          ]
        }
      ]
    },
    {
      "cell_type": "markdown",
      "source": [
        "*   The volume of a cylinder is given by the formula $$V = \\pi r^2 h$$ where $r$ is the radius and $h$ is the height. For a given volume and height we can express the radius and compute it. Write a program that reads a volume and a height from the user. The program should then compute and print the radius of the cylinder."
      ],
      "metadata": {
        "id": "fzgotqiJJgB2"
      }
    },
    {
      "cell_type": "code",
      "source": [
        "import math\n",
        "volume = float(input('Please enter volumn of the cylinder: '))\n",
        "height = float(input('Please enter the height of the cylinder: '))\n",
        "print(f'The radius of the cylinder is: {math.sqrt(volume / (math.pi * height))}')"
      ],
      "metadata": {
        "id": "fiYRGaTOLeq2",
        "outputId": "027cbf20-8197-47c5-9895-d816217e84c1",
        "colab": {
          "base_uri": "https://localhost:8080/"
        }
      },
      "execution_count": 18,
      "outputs": [
        {
          "output_type": "stream",
          "name": "stdout",
          "text": [
            "Please enter volumn of the cylinder: 45\n",
            "Please enter the height of the cylinder: 9\n",
            "The radius of the cylinder is: 1.2615662610100802\n"
          ]
        }
      ]
    }
  ]
}
